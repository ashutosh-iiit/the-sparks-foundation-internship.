{
  "nbformat": 4,
  "nbformat_minor": 0,
  "metadata": {
    "colab": {
      "name": "Stock_Prediction.ipynb",
      "provenance": [],
      "collapsed_sections": []
    },
    "kernelspec": {
      "display_name": "Python 3",
      "name": "python3"
    }
  },
  "cells": [
    {
      "cell_type": "markdown",
      "metadata": {
        "id": "view-in-github"
      },
      "source": [
        "<a href=\"https://colab.research.google.com/github/roshank1605A04/Stock-Market-Predictions/blob/master/Stock_Prediction.ipynb\" target=\"_parent\"><img src=\"https://colab.research.google.com/assets/colab-badge.svg\" alt=\"Open In Colab\"/></a>"
      ]
    },
    {
      "cell_type": "markdown",
      "metadata": {
        "id": "YYOgPabLhp2M"
      },
      "source": [
        "# Stock Prediction\n",
        "## Shubham Singh"
      ]
    },
    {
      "cell_type": "code",
      "metadata": {
        "colab": {
          "resources": {
            "http://localhost:8080/nbextensions/google.colab/files.js": {
              "data": "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",
              "ok": true,
              "headers": [
                [
                  "content-type",
                  "application/javascript"
                ]
              ],
              "status": 200,
              "status_text": ""
            }
          },
          "base_uri": "https://localhost:8080/",
          "height": 72
        },
        "id": "R4rA8ppjew_1",
        "outputId": "d88c3c34-c11f-42bd-fc13-4475d385eae9"
      },
      "source": [
        "from google.colab import files \n",
        "uploaded = files.upload()"
      ],
      "execution_count": 1,
      "outputs": [
        {
          "output_type": "display_data",
          "data": {
            "text/html": [
              "\n",
              "     <input type=\"file\" id=\"files-bd2cf3d1-4da8-4704-8152-06bae7124527\" name=\"files[]\" multiple disabled\n",
              "        style=\"border:none\" />\n",
              "     <output id=\"result-bd2cf3d1-4da8-4704-8152-06bae7124527\">\n",
              "      Upload widget is only available when the cell has been executed in the\n",
              "      current browser session. Please rerun this cell to enable.\n",
              "      </output>\n",
              "      <script src=\"/nbextensions/google.colab/files.js\"></script> "
            ],
            "text/plain": [
              "<IPython.core.display.HTML object>"
            ]
          },
          "metadata": {
            "tags": []
          }
        },
        {
          "output_type": "stream",
          "text": [
            "Saving Google_Stock_Price_Train.csv to Google_Stock_Price_Train.csv\n"
          ],
          "name": "stdout"
        }
      ]
    },
    {
      "cell_type": "code",
      "metadata": {
        "colab": {
          "resources": {
            "http://localhost:8080/nbextensions/google.colab/files.js": {
              "data": "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",
              "ok": true,
              "headers": [
                [
                  "content-type",
                  "application/javascript"
                ]
              ],
              "status": 200,
              "status_text": ""
            }
          },
          "base_uri": "https://localhost:8080/",
          "height": 72
        },
        "id": "-6NpG-y9e5an",
        "outputId": "f8b26f6c-d814-4e39-a03b-42585f804a21"
      },
      "source": [
        "from google.colab import files \n",
        "uploaded = files.upload()"
      ],
      "execution_count": 2,
      "outputs": [
        {
          "output_type": "display_data",
          "data": {
            "text/html": [
              "\n",
              "     <input type=\"file\" id=\"files-6b01337b-e812-434a-9fa7-f6a2366c4fa1\" name=\"files[]\" multiple disabled\n",
              "        style=\"border:none\" />\n",
              "     <output id=\"result-6b01337b-e812-434a-9fa7-f6a2366c4fa1\">\n",
              "      Upload widget is only available when the cell has been executed in the\n",
              "      current browser session. Please rerun this cell to enable.\n",
              "      </output>\n",
              "      <script src=\"/nbextensions/google.colab/files.js\"></script> "
            ],
            "text/plain": [
              "<IPython.core.display.HTML object>"
            ]
          },
          "metadata": {
            "tags": []
          }
        },
        {
          "output_type": "stream",
          "text": [
            "Saving Google_Stock_Price_Test.csv to Google_Stock_Price_Test.csv\n"
          ],
          "name": "stdout"
        }
      ]
    },
    {
      "cell_type": "code",
      "metadata": {
        "id": "qNYMEOdmsOac"
      },
      "source": [
        "import numpy as np\n",
        "import pandas as pd\n",
        "\n",
        "import matplotlib.pyplot as plt\n",
        "import seaborn as sns\n"
      ],
      "execution_count": 3,
      "outputs": []
    },
    {
      "cell_type": "code",
      "metadata": {
        "colab": {
          "base_uri": "https://localhost:8080/",
          "height": 204
        },
        "id": "Q-M-x72pu8TH",
        "outputId": "a2920e7b-727e-4eb2-9e55-ef34cdc889e1"
      },
      "source": [
        "training_data = pd.read_csv('Google_Stock_Price_Train.csv')\n",
        "\n",
        "training_data.shape\n",
        "training_data.head()"
      ],
      "execution_count": 4,
      "outputs": [
        {
          "output_type": "execute_result",
          "data": {
            "text/html": [
              "<div>\n",
              "<style scoped>\n",
              "    .dataframe tbody tr th:only-of-type {\n",
              "        vertical-align: middle;\n",
              "    }\n",
              "\n",
              "    .dataframe tbody tr th {\n",
              "        vertical-align: top;\n",
              "    }\n",
              "\n",
              "    .dataframe thead th {\n",
              "        text-align: right;\n",
              "    }\n",
              "</style>\n",
              "<table border=\"1\" class=\"dataframe\">\n",
              "  <thead>\n",
              "    <tr style=\"text-align: right;\">\n",
              "      <th></th>\n",
              "      <th>Date</th>\n",
              "      <th>Open</th>\n",
              "      <th>High</th>\n",
              "      <th>Low</th>\n",
              "      <th>Close</th>\n",
              "      <th>Volume</th>\n",
              "    </tr>\n",
              "  </thead>\n",
              "  <tbody>\n",
              "    <tr>\n",
              "      <th>0</th>\n",
              "      <td>1/3/2012</td>\n",
              "      <td>325.25</td>\n",
              "      <td>332.83</td>\n",
              "      <td>324.97</td>\n",
              "      <td>663.59</td>\n",
              "      <td>7,380,500</td>\n",
              "    </tr>\n",
              "    <tr>\n",
              "      <th>1</th>\n",
              "      <td>1/4/2012</td>\n",
              "      <td>331.27</td>\n",
              "      <td>333.87</td>\n",
              "      <td>329.08</td>\n",
              "      <td>666.45</td>\n",
              "      <td>5,749,400</td>\n",
              "    </tr>\n",
              "    <tr>\n",
              "      <th>2</th>\n",
              "      <td>1/5/2012</td>\n",
              "      <td>329.83</td>\n",
              "      <td>330.75</td>\n",
              "      <td>326.89</td>\n",
              "      <td>657.21</td>\n",
              "      <td>6,590,300</td>\n",
              "    </tr>\n",
              "    <tr>\n",
              "      <th>3</th>\n",
              "      <td>1/6/2012</td>\n",
              "      <td>328.34</td>\n",
              "      <td>328.77</td>\n",
              "      <td>323.68</td>\n",
              "      <td>648.24</td>\n",
              "      <td>5,405,900</td>\n",
              "    </tr>\n",
              "    <tr>\n",
              "      <th>4</th>\n",
              "      <td>1/9/2012</td>\n",
              "      <td>322.04</td>\n",
              "      <td>322.29</td>\n",
              "      <td>309.46</td>\n",
              "      <td>620.76</td>\n",
              "      <td>11,688,800</td>\n",
              "    </tr>\n",
              "  </tbody>\n",
              "</table>\n",
              "</div>"
            ],
            "text/plain": [
              "       Date    Open    High     Low   Close      Volume\n",
              "0  1/3/2012  325.25  332.83  324.97  663.59   7,380,500\n",
              "1  1/4/2012  331.27  333.87  329.08  666.45   5,749,400\n",
              "2  1/5/2012  329.83  330.75  326.89  657.21   6,590,300\n",
              "3  1/6/2012  328.34  328.77  323.68  648.24   5,405,900\n",
              "4  1/9/2012  322.04  322.29  309.46  620.76  11,688,800"
            ]
          },
          "metadata": {
            "tags": []
          },
          "execution_count": 4
        }
      ]
    },
    {
      "cell_type": "code",
      "metadata": {
        "colab": {
          "base_uri": "https://localhost:8080/",
          "height": 204
        },
        "id": "Pm3EqSv_V0JB",
        "outputId": "4d2dd13f-563a-463c-b898-6786718b6424"
      },
      "source": [
        "training_data = training_data.iloc[:, 1:2]\n",
        "\n",
        "training_data.shape\n",
        "training_data.head()"
      ],
      "execution_count": 5,
      "outputs": [
        {
          "output_type": "execute_result",
          "data": {
            "text/html": [
              "<div>\n",
              "<style scoped>\n",
              "    .dataframe tbody tr th:only-of-type {\n",
              "        vertical-align: middle;\n",
              "    }\n",
              "\n",
              "    .dataframe tbody tr th {\n",
              "        vertical-align: top;\n",
              "    }\n",
              "\n",
              "    .dataframe thead th {\n",
              "        text-align: right;\n",
              "    }\n",
              "</style>\n",
              "<table border=\"1\" class=\"dataframe\">\n",
              "  <thead>\n",
              "    <tr style=\"text-align: right;\">\n",
              "      <th></th>\n",
              "      <th>Open</th>\n",
              "    </tr>\n",
              "  </thead>\n",
              "  <tbody>\n",
              "    <tr>\n",
              "      <th>0</th>\n",
              "      <td>325.25</td>\n",
              "    </tr>\n",
              "    <tr>\n",
              "      <th>1</th>\n",
              "      <td>331.27</td>\n",
              "    </tr>\n",
              "    <tr>\n",
              "      <th>2</th>\n",
              "      <td>329.83</td>\n",
              "    </tr>\n",
              "    <tr>\n",
              "      <th>3</th>\n",
              "      <td>328.34</td>\n",
              "    </tr>\n",
              "    <tr>\n",
              "      <th>4</th>\n",
              "      <td>322.04</td>\n",
              "    </tr>\n",
              "  </tbody>\n",
              "</table>\n",
              "</div>"
            ],
            "text/plain": [
              "     Open\n",
              "0  325.25\n",
              "1  331.27\n",
              "2  329.83\n",
              "3  328.34\n",
              "4  322.04"
            ]
          },
          "metadata": {
            "tags": []
          },
          "execution_count": 5
        }
      ]
    },
    {
      "cell_type": "code",
      "metadata": {
        "id": "z3OYbMhcwgqm"
      },
      "source": [
        "# feature scaling\n",
        "\n",
        "from sklearn.preprocessing import MinMaxScaler\n",
        "\n",
        "mm = MinMaxScaler(feature_range = (0, 1))\n",
        "training_data = mm.fit_transform(training_data)\n"
      ],
      "execution_count": 6,
      "outputs": []
    },
    {
      "cell_type": "code",
      "metadata": {
        "colab": {
          "base_uri": "https://localhost:8080/"
        },
        "id": "i8re98-UxQ3y",
        "outputId": "057e96dd-c55b-4378-f1da-1be29ed8265b"
      },
      "source": [
        "# Getting the inputs and outputs\n",
        "\n",
        "x_train = training_data[0:1257]\n",
        "y_train = training_data[1:1258]\n",
        "\n",
        "print(x_train.shape)\n",
        "print(y_train.shape)\n"
      ],
      "execution_count": 7,
      "outputs": [
        {
          "output_type": "stream",
          "text": [
            "(1257, 1)\n",
            "(1257, 1)\n"
          ],
          "name": "stdout"
        }
      ]
    },
    {
      "cell_type": "code",
      "metadata": {
        "colab": {
          "base_uri": "https://localhost:8080/"
        },
        "id": "qTNdKPW8yFRc",
        "outputId": "0af71574-3d2f-400e-a0da-265df10696df"
      },
      "source": [
        "# reshaping\n",
        "\n",
        "x_train = np.reshape(x_train, (1257, 1, 1))\n",
        "\n",
        "print(x_train.shape)"
      ],
      "execution_count": 8,
      "outputs": [
        {
          "output_type": "stream",
          "text": [
            "(1257, 1, 1)\n"
          ],
          "name": "stdout"
        }
      ]
    },
    {
      "cell_type": "code",
      "metadata": {
        "id": "6c47hPxrzRHh"
      },
      "source": [
        "# importing the keras libraries and packages\n",
        "\n",
        "import keras\n",
        "from keras.models import Sequential\n",
        "from keras.layers import Dense\n",
        "from keras.layers import LSTM\n"
      ],
      "execution_count": 9,
      "outputs": []
    },
    {
      "cell_type": "code",
      "metadata": {
        "colab": {
          "base_uri": "https://localhost:8080/"
        },
        "id": "Cbe32yNBzuF_",
        "outputId": "323d66dd-417f-4cee-bb10-3384118d063a"
      },
      "source": [
        "# initializing the model\n",
        "model = Sequential()\n",
        "\n",
        "# adding the input layer and the LSTM layer\n",
        "model.add(LSTM(units = 4, activation = 'sigmoid', input_shape = (None, 1)))\n",
        "\n",
        "# adding the output layer\n",
        "model.add(Dense(units = 1))\n",
        "\n",
        "# compiling the model\n",
        "model.compile(optimizer = 'adam', loss = 'mean_squared_error')\n",
        "\n",
        "# fitting the RNN to the training data\n",
        "model.fit(x_train, y_train, batch_size = 32, epochs = 200)\n"
      ],
      "execution_count": 10,
      "outputs": [
        {
          "output_type": "stream",
          "text": [
            "Epoch 1/200\n",
            "40/40 [==============================] - 21s 2ms/step - loss: 0.1623\n",
            "Epoch 2/200\n",
            "40/40 [==============================] - 0s 2ms/step - loss: 0.1077\n",
            "Epoch 3/200\n",
            "40/40 [==============================] - 0s 2ms/step - loss: 0.0860\n",
            "Epoch 4/200\n",
            "40/40 [==============================] - 0s 2ms/step - loss: 0.0738\n",
            "Epoch 5/200\n",
            "40/40 [==============================] - 0s 2ms/step - loss: 0.0684\n",
            "Epoch 6/200\n",
            "40/40 [==============================] - 0s 2ms/step - loss: 0.0693\n",
            "Epoch 7/200\n",
            "40/40 [==============================] - 0s 2ms/step - loss: 0.0644\n",
            "Epoch 8/200\n",
            "40/40 [==============================] - 0s 2ms/step - loss: 0.0688\n",
            "Epoch 9/200\n",
            "40/40 [==============================] - 0s 2ms/step - loss: 0.0609\n",
            "Epoch 10/200\n",
            "40/40 [==============================] - 0s 2ms/step - loss: 0.0581\n",
            "Epoch 11/200\n",
            "40/40 [==============================] - 0s 2ms/step - loss: 0.0616\n",
            "Epoch 12/200\n",
            "40/40 [==============================] - 0s 2ms/step - loss: 0.0568\n",
            "Epoch 13/200\n",
            "40/40 [==============================] - 0s 2ms/step - loss: 0.0587\n",
            "Epoch 14/200\n",
            "40/40 [==============================] - 0s 2ms/step - loss: 0.0553\n",
            "Epoch 15/200\n",
            "40/40 [==============================] - 0s 2ms/step - loss: 0.0547\n",
            "Epoch 16/200\n",
            "40/40 [==============================] - 0s 2ms/step - loss: 0.0515\n",
            "Epoch 17/200\n",
            "40/40 [==============================] - 0s 2ms/step - loss: 0.0493\n",
            "Epoch 18/200\n",
            "40/40 [==============================] - 0s 2ms/step - loss: 0.0502\n",
            "Epoch 19/200\n",
            "40/40 [==============================] - 0s 2ms/step - loss: 0.0454\n",
            "Epoch 20/200\n",
            "40/40 [==============================] - 0s 2ms/step - loss: 0.0453\n",
            "Epoch 21/200\n",
            "40/40 [==============================] - 0s 2ms/step - loss: 0.0457\n",
            "Epoch 22/200\n",
            "40/40 [==============================] - 0s 2ms/step - loss: 0.0402\n",
            "Epoch 23/200\n",
            "40/40 [==============================] - 0s 2ms/step - loss: 0.0391\n",
            "Epoch 24/200\n",
            "40/40 [==============================] - 0s 2ms/step - loss: 0.0365\n",
            "Epoch 25/200\n",
            "40/40 [==============================] - 0s 2ms/step - loss: 0.0352\n",
            "Epoch 26/200\n",
            "40/40 [==============================] - 0s 2ms/step - loss: 0.0334\n",
            "Epoch 27/200\n",
            "40/40 [==============================] - 0s 2ms/step - loss: 0.0299\n",
            "Epoch 28/200\n",
            "40/40 [==============================] - 0s 2ms/step - loss: 0.0296\n",
            "Epoch 29/200\n",
            "40/40 [==============================] - 0s 2ms/step - loss: 0.0266\n",
            "Epoch 30/200\n",
            "40/40 [==============================] - 0s 2ms/step - loss: 0.0255\n",
            "Epoch 31/200\n",
            "40/40 [==============================] - 0s 2ms/step - loss: 0.0223\n",
            "Epoch 32/200\n",
            "40/40 [==============================] - 0s 2ms/step - loss: 0.0209\n",
            "Epoch 33/200\n",
            "40/40 [==============================] - 0s 2ms/step - loss: 0.0189\n",
            "Epoch 34/200\n",
            "40/40 [==============================] - 0s 2ms/step - loss: 0.0171\n",
            "Epoch 35/200\n",
            "40/40 [==============================] - 0s 2ms/step - loss: 0.0158\n",
            "Epoch 36/200\n",
            "40/40 [==============================] - 0s 2ms/step - loss: 0.0139\n",
            "Epoch 37/200\n",
            "40/40 [==============================] - 0s 2ms/step - loss: 0.0122\n",
            "Epoch 38/200\n",
            "40/40 [==============================] - 0s 2ms/step - loss: 0.0107\n",
            "Epoch 39/200\n",
            "40/40 [==============================] - 0s 2ms/step - loss: 0.0095\n",
            "Epoch 40/200\n",
            "40/40 [==============================] - 0s 2ms/step - loss: 0.0078\n",
            "Epoch 41/200\n",
            "40/40 [==============================] - 0s 2ms/step - loss: 0.0070\n",
            "Epoch 42/200\n",
            "40/40 [==============================] - 0s 2ms/step - loss: 0.0056\n",
            "Epoch 43/200\n",
            "40/40 [==============================] - 0s 2ms/step - loss: 0.0050\n",
            "Epoch 44/200\n",
            "40/40 [==============================] - 0s 2ms/step - loss: 0.0041\n",
            "Epoch 45/200\n",
            "40/40 [==============================] - 0s 2ms/step - loss: 0.0038\n",
            "Epoch 46/200\n",
            "40/40 [==============================] - 0s 2ms/step - loss: 0.0029\n",
            "Epoch 47/200\n",
            "40/40 [==============================] - 0s 2ms/step - loss: 0.0023\n",
            "Epoch 48/200\n",
            "40/40 [==============================] - 0s 2ms/step - loss: 0.0022\n",
            "Epoch 49/200\n",
            "40/40 [==============================] - 0s 2ms/step - loss: 0.0017\n",
            "Epoch 50/200\n",
            "40/40 [==============================] - 0s 2ms/step - loss: 0.0014\n",
            "Epoch 51/200\n",
            "40/40 [==============================] - 0s 2ms/step - loss: 0.0012\n",
            "Epoch 52/200\n",
            "40/40 [==============================] - 0s 2ms/step - loss: 0.0011\n",
            "Epoch 53/200\n",
            "40/40 [==============================] - 0s 2ms/step - loss: 8.6350e-04\n",
            "Epoch 54/200\n",
            "40/40 [==============================] - 0s 2ms/step - loss: 7.6054e-04\n",
            "Epoch 55/200\n",
            "40/40 [==============================] - 0s 2ms/step - loss: 6.7438e-04\n",
            "Epoch 56/200\n",
            "40/40 [==============================] - 0s 2ms/step - loss: 5.6891e-04\n",
            "Epoch 57/200\n",
            "40/40 [==============================] - 0s 2ms/step - loss: 4.7491e-04\n",
            "Epoch 58/200\n",
            "40/40 [==============================] - 0s 2ms/step - loss: 5.2112e-04\n",
            "Epoch 59/200\n",
            "40/40 [==============================] - 0s 2ms/step - loss: 4.5979e-04\n",
            "Epoch 60/200\n",
            "40/40 [==============================] - 0s 2ms/step - loss: 4.1005e-04\n",
            "Epoch 61/200\n",
            "40/40 [==============================] - 0s 2ms/step - loss: 4.1495e-04\n",
            "Epoch 62/200\n",
            "40/40 [==============================] - 0s 2ms/step - loss: 3.9361e-04\n",
            "Epoch 63/200\n",
            "40/40 [==============================] - 0s 2ms/step - loss: 3.8976e-04\n",
            "Epoch 64/200\n",
            "40/40 [==============================] - 0s 2ms/step - loss: 3.8220e-04\n",
            "Epoch 65/200\n",
            "40/40 [==============================] - 0s 2ms/step - loss: 4.2048e-04\n",
            "Epoch 66/200\n",
            "40/40 [==============================] - 0s 2ms/step - loss: 3.3542e-04\n",
            "Epoch 67/200\n",
            "40/40 [==============================] - 0s 2ms/step - loss: 3.8185e-04\n",
            "Epoch 68/200\n",
            "40/40 [==============================] - 0s 2ms/step - loss: 3.3332e-04\n",
            "Epoch 69/200\n",
            "40/40 [==============================] - 0s 2ms/step - loss: 3.4185e-04\n",
            "Epoch 70/200\n",
            "40/40 [==============================] - 0s 2ms/step - loss: 3.6959e-04\n",
            "Epoch 71/200\n",
            "40/40 [==============================] - 0s 2ms/step - loss: 3.3565e-04\n",
            "Epoch 72/200\n",
            "40/40 [==============================] - 0s 2ms/step - loss: 3.8851e-04\n",
            "Epoch 73/200\n",
            "40/40 [==============================] - 0s 2ms/step - loss: 3.2013e-04\n",
            "Epoch 74/200\n",
            "40/40 [==============================] - 0s 2ms/step - loss: 3.6927e-04\n",
            "Epoch 75/200\n",
            "40/40 [==============================] - 0s 2ms/step - loss: 4.1062e-04\n",
            "Epoch 76/200\n",
            "40/40 [==============================] - 0s 2ms/step - loss: 3.5165e-04\n",
            "Epoch 77/200\n",
            "40/40 [==============================] - 0s 2ms/step - loss: 3.8432e-04\n",
            "Epoch 78/200\n",
            "40/40 [==============================] - 0s 2ms/step - loss: 3.3774e-04\n",
            "Epoch 79/200\n",
            "40/40 [==============================] - 0s 2ms/step - loss: 3.6531e-04\n",
            "Epoch 80/200\n",
            "40/40 [==============================] - 0s 2ms/step - loss: 4.0813e-04\n",
            "Epoch 81/200\n",
            "40/40 [==============================] - 0s 2ms/step - loss: 3.7493e-04\n",
            "Epoch 82/200\n",
            "40/40 [==============================] - 0s 2ms/step - loss: 3.4587e-04\n",
            "Epoch 83/200\n",
            "40/40 [==============================] - 0s 2ms/step - loss: 3.5977e-04\n",
            "Epoch 84/200\n",
            "40/40 [==============================] - 0s 2ms/step - loss: 3.6521e-04\n",
            "Epoch 85/200\n",
            "40/40 [==============================] - 0s 2ms/step - loss: 2.8860e-04\n",
            "Epoch 86/200\n",
            "40/40 [==============================] - 0s 2ms/step - loss: 3.1139e-04\n",
            "Epoch 87/200\n",
            "40/40 [==============================] - 0s 2ms/step - loss: 3.3173e-04\n",
            "Epoch 88/200\n",
            "40/40 [==============================] - 0s 2ms/step - loss: 3.2913e-04\n",
            "Epoch 89/200\n",
            "40/40 [==============================] - 0s 2ms/step - loss: 3.2209e-04\n",
            "Epoch 90/200\n",
            "40/40 [==============================] - 0s 2ms/step - loss: 3.1801e-04\n",
            "Epoch 91/200\n",
            "40/40 [==============================] - 0s 2ms/step - loss: 2.9100e-04\n",
            "Epoch 92/200\n",
            "40/40 [==============================] - 0s 2ms/step - loss: 2.8825e-04\n",
            "Epoch 93/200\n",
            "40/40 [==============================] - 0s 2ms/step - loss: 3.6843e-04\n",
            "Epoch 94/200\n",
            "40/40 [==============================] - 0s 2ms/step - loss: 3.2551e-04\n",
            "Epoch 95/200\n",
            "40/40 [==============================] - 0s 2ms/step - loss: 3.1652e-04\n",
            "Epoch 96/200\n",
            "40/40 [==============================] - 0s 2ms/step - loss: 3.2096e-04\n",
            "Epoch 97/200\n",
            "40/40 [==============================] - 0s 2ms/step - loss: 3.0750e-04\n",
            "Epoch 98/200\n",
            "40/40 [==============================] - 0s 2ms/step - loss: 4.1486e-04\n",
            "Epoch 99/200\n",
            "40/40 [==============================] - 0s 2ms/step - loss: 3.1127e-04\n",
            "Epoch 100/200\n",
            "40/40 [==============================] - 0s 2ms/step - loss: 3.3627e-04\n",
            "Epoch 101/200\n",
            "40/40 [==============================] - 0s 2ms/step - loss: 3.3420e-04\n",
            "Epoch 102/200\n",
            "40/40 [==============================] - 0s 2ms/step - loss: 3.1523e-04\n",
            "Epoch 103/200\n",
            "40/40 [==============================] - 0s 2ms/step - loss: 3.1675e-04\n",
            "Epoch 104/200\n",
            "40/40 [==============================] - 0s 2ms/step - loss: 3.2212e-04\n",
            "Epoch 105/200\n",
            "40/40 [==============================] - 0s 2ms/step - loss: 2.7005e-04\n",
            "Epoch 106/200\n",
            "40/40 [==============================] - 0s 2ms/step - loss: 2.9117e-04\n",
            "Epoch 107/200\n",
            "40/40 [==============================] - 0s 2ms/step - loss: 2.9953e-04\n",
            "Epoch 108/200\n",
            "40/40 [==============================] - 0s 2ms/step - loss: 3.0915e-04\n",
            "Epoch 109/200\n",
            "40/40 [==============================] - 0s 2ms/step - loss: 3.0082e-04\n",
            "Epoch 110/200\n",
            "40/40 [==============================] - 0s 2ms/step - loss: 2.7237e-04\n",
            "Epoch 111/200\n",
            "40/40 [==============================] - 0s 2ms/step - loss: 3.1207e-04\n",
            "Epoch 112/200\n",
            "40/40 [==============================] - 0s 2ms/step - loss: 3.4215e-04\n",
            "Epoch 113/200\n",
            "40/40 [==============================] - 0s 2ms/step - loss: 3.0880e-04\n",
            "Epoch 114/200\n",
            "40/40 [==============================] - 0s 2ms/step - loss: 3.0415e-04\n",
            "Epoch 115/200\n",
            "40/40 [==============================] - 0s 2ms/step - loss: 3.1977e-04\n",
            "Epoch 116/200\n",
            "40/40 [==============================] - 0s 2ms/step - loss: 2.9050e-04\n",
            "Epoch 117/200\n",
            "40/40 [==============================] - 0s 2ms/step - loss: 2.8338e-04\n",
            "Epoch 118/200\n",
            "40/40 [==============================] - 0s 2ms/step - loss: 3.3878e-04\n",
            "Epoch 119/200\n",
            "40/40 [==============================] - 0s 2ms/step - loss: 2.9057e-04\n",
            "Epoch 120/200\n",
            "40/40 [==============================] - 0s 2ms/step - loss: 3.7900e-04\n",
            "Epoch 121/200\n",
            "40/40 [==============================] - 0s 2ms/step - loss: 2.7462e-04\n",
            "Epoch 122/200\n",
            "40/40 [==============================] - 0s 2ms/step - loss: 2.9256e-04\n",
            "Epoch 123/200\n",
            "40/40 [==============================] - 0s 2ms/step - loss: 2.8977e-04\n",
            "Epoch 124/200\n",
            "40/40 [==============================] - 0s 2ms/step - loss: 2.8277e-04\n",
            "Epoch 125/200\n",
            "40/40 [==============================] - 0s 2ms/step - loss: 2.9431e-04\n",
            "Epoch 126/200\n",
            "40/40 [==============================] - 0s 2ms/step - loss: 3.1729e-04\n",
            "Epoch 127/200\n",
            "40/40 [==============================] - 0s 2ms/step - loss: 2.9192e-04\n",
            "Epoch 128/200\n",
            "40/40 [==============================] - 0s 2ms/step - loss: 2.5581e-04\n",
            "Epoch 129/200\n",
            "40/40 [==============================] - 0s 2ms/step - loss: 2.8710e-04\n",
            "Epoch 130/200\n",
            "40/40 [==============================] - 0s 2ms/step - loss: 2.5208e-04\n",
            "Epoch 131/200\n",
            "40/40 [==============================] - 0s 2ms/step - loss: 2.8388e-04\n",
            "Epoch 132/200\n",
            "40/40 [==============================] - 0s 2ms/step - loss: 3.1812e-04\n",
            "Epoch 133/200\n",
            "40/40 [==============================] - 0s 2ms/step - loss: 3.1796e-04\n",
            "Epoch 134/200\n",
            "40/40 [==============================] - 0s 2ms/step - loss: 2.4880e-04\n",
            "Epoch 135/200\n",
            "40/40 [==============================] - 0s 2ms/step - loss: 2.4391e-04\n",
            "Epoch 136/200\n",
            "40/40 [==============================] - 0s 2ms/step - loss: 2.6865e-04\n",
            "Epoch 137/200\n",
            "40/40 [==============================] - 0s 2ms/step - loss: 2.4875e-04\n",
            "Epoch 138/200\n",
            "40/40 [==============================] - 0s 2ms/step - loss: 2.5303e-04\n",
            "Epoch 139/200\n",
            "40/40 [==============================] - 0s 2ms/step - loss: 2.8004e-04\n",
            "Epoch 140/200\n",
            "40/40 [==============================] - 0s 2ms/step - loss: 2.6867e-04\n",
            "Epoch 141/200\n",
            "40/40 [==============================] - 0s 2ms/step - loss: 4.0088e-04\n",
            "Epoch 142/200\n",
            "40/40 [==============================] - 0s 2ms/step - loss: 2.4368e-04\n",
            "Epoch 143/200\n",
            "40/40 [==============================] - 0s 2ms/step - loss: 2.9527e-04\n",
            "Epoch 144/200\n",
            "40/40 [==============================] - 0s 2ms/step - loss: 2.7420e-04\n",
            "Epoch 145/200\n",
            "40/40 [==============================] - 0s 2ms/step - loss: 3.2967e-04\n",
            "Epoch 146/200\n",
            "40/40 [==============================] - 0s 2ms/step - loss: 3.0225e-04\n",
            "Epoch 147/200\n",
            "40/40 [==============================] - 0s 2ms/step - loss: 2.5497e-04\n",
            "Epoch 148/200\n",
            "40/40 [==============================] - 0s 2ms/step - loss: 3.2888e-04\n",
            "Epoch 149/200\n",
            "40/40 [==============================] - 0s 2ms/step - loss: 2.4404e-04\n",
            "Epoch 150/200\n",
            "40/40 [==============================] - 0s 2ms/step - loss: 2.9643e-04\n",
            "Epoch 151/200\n",
            "40/40 [==============================] - 0s 2ms/step - loss: 2.1794e-04\n",
            "Epoch 152/200\n",
            "40/40 [==============================] - 0s 2ms/step - loss: 2.6810e-04\n",
            "Epoch 153/200\n",
            "40/40 [==============================] - 0s 2ms/step - loss: 2.4628e-04\n",
            "Epoch 154/200\n",
            "40/40 [==============================] - 0s 2ms/step - loss: 2.4590e-04\n",
            "Epoch 155/200\n",
            "40/40 [==============================] - 0s 2ms/step - loss: 2.7227e-04\n",
            "Epoch 156/200\n",
            "40/40 [==============================] - 0s 2ms/step - loss: 2.5319e-04\n",
            "Epoch 157/200\n",
            "40/40 [==============================] - 0s 2ms/step - loss: 2.6798e-04\n",
            "Epoch 158/200\n",
            "40/40 [==============================] - 0s 2ms/step - loss: 2.9377e-04\n",
            "Epoch 159/200\n",
            "40/40 [==============================] - 0s 2ms/step - loss: 2.9083e-04\n",
            "Epoch 160/200\n",
            "40/40 [==============================] - 0s 2ms/step - loss: 2.6736e-04\n",
            "Epoch 161/200\n",
            "40/40 [==============================] - 0s 2ms/step - loss: 2.5467e-04\n",
            "Epoch 162/200\n",
            "40/40 [==============================] - 0s 2ms/step - loss: 2.4985e-04\n",
            "Epoch 163/200\n",
            "40/40 [==============================] - 0s 2ms/step - loss: 3.1056e-04\n",
            "Epoch 164/200\n",
            "40/40 [==============================] - 0s 2ms/step - loss: 2.6604e-04\n",
            "Epoch 165/200\n",
            "40/40 [==============================] - 0s 2ms/step - loss: 2.7581e-04\n",
            "Epoch 166/200\n",
            "40/40 [==============================] - 0s 2ms/step - loss: 2.5911e-04\n",
            "Epoch 167/200\n",
            "40/40 [==============================] - 0s 2ms/step - loss: 2.7071e-04\n",
            "Epoch 168/200\n",
            "40/40 [==============================] - 0s 2ms/step - loss: 2.8431e-04\n",
            "Epoch 169/200\n",
            "40/40 [==============================] - 0s 2ms/step - loss: 2.3531e-04\n",
            "Epoch 170/200\n",
            "40/40 [==============================] - 0s 2ms/step - loss: 2.7259e-04\n",
            "Epoch 171/200\n",
            "40/40 [==============================] - 0s 2ms/step - loss: 2.1616e-04\n",
            "Epoch 172/200\n",
            "40/40 [==============================] - 0s 2ms/step - loss: 2.7466e-04\n",
            "Epoch 173/200\n",
            "40/40 [==============================] - 0s 2ms/step - loss: 2.4399e-04\n",
            "Epoch 174/200\n",
            "40/40 [==============================] - 0s 2ms/step - loss: 2.4018e-04\n",
            "Epoch 175/200\n",
            "40/40 [==============================] - 0s 2ms/step - loss: 3.0882e-04\n",
            "Epoch 176/200\n",
            "40/40 [==============================] - 0s 2ms/step - loss: 2.5247e-04\n",
            "Epoch 177/200\n",
            "40/40 [==============================] - 0s 2ms/step - loss: 2.5770e-04\n",
            "Epoch 178/200\n",
            "40/40 [==============================] - 0s 2ms/step - loss: 2.3391e-04\n",
            "Epoch 179/200\n",
            "40/40 [==============================] - 0s 2ms/step - loss: 2.5399e-04\n",
            "Epoch 180/200\n",
            "40/40 [==============================] - 0s 2ms/step - loss: 2.3930e-04\n",
            "Epoch 181/200\n",
            "40/40 [==============================] - 0s 2ms/step - loss: 2.4060e-04\n",
            "Epoch 182/200\n",
            "40/40 [==============================] - 0s 2ms/step - loss: 2.5357e-04\n",
            "Epoch 183/200\n",
            "40/40 [==============================] - 0s 2ms/step - loss: 2.3469e-04\n",
            "Epoch 184/200\n",
            "40/40 [==============================] - 0s 2ms/step - loss: 2.1679e-04\n",
            "Epoch 185/200\n",
            "40/40 [==============================] - 0s 2ms/step - loss: 2.6684e-04\n",
            "Epoch 186/200\n",
            "40/40 [==============================] - 0s 2ms/step - loss: 2.6446e-04\n",
            "Epoch 187/200\n",
            "40/40 [==============================] - 0s 2ms/step - loss: 3.1130e-04\n",
            "Epoch 188/200\n",
            "40/40 [==============================] - 0s 2ms/step - loss: 2.4921e-04\n",
            "Epoch 189/200\n",
            "40/40 [==============================] - 0s 2ms/step - loss: 2.6214e-04\n",
            "Epoch 190/200\n",
            "40/40 [==============================] - 0s 2ms/step - loss: 2.5942e-04\n",
            "Epoch 191/200\n",
            "40/40 [==============================] - 0s 2ms/step - loss: 2.8073e-04\n",
            "Epoch 192/200\n",
            "40/40 [==============================] - 0s 2ms/step - loss: 2.3536e-04\n",
            "Epoch 193/200\n",
            "40/40 [==============================] - 0s 2ms/step - loss: 2.1355e-04\n",
            "Epoch 194/200\n",
            "40/40 [==============================] - 0s 2ms/step - loss: 2.4053e-04\n",
            "Epoch 195/200\n",
            "40/40 [==============================] - 0s 2ms/step - loss: 2.8282e-04\n",
            "Epoch 196/200\n",
            "40/40 [==============================] - 0s 2ms/step - loss: 3.2370e-04\n",
            "Epoch 197/200\n",
            "40/40 [==============================] - 0s 2ms/step - loss: 2.4789e-04\n",
            "Epoch 198/200\n",
            "40/40 [==============================] - 0s 2ms/step - loss: 2.9671e-04\n",
            "Epoch 199/200\n",
            "40/40 [==============================] - 0s 2ms/step - loss: 2.3310e-04\n",
            "Epoch 200/200\n",
            "40/40 [==============================] - 0s 2ms/step - loss: 2.4429e-04\n"
          ],
          "name": "stdout"
        },
        {
          "output_type": "execute_result",
          "data": {
            "text/plain": [
              "<keras.callbacks.History at 0x7f38fa0eba10>"
            ]
          },
          "metadata": {
            "tags": []
          },
          "execution_count": 10
        }
      ]
    },
    {
      "cell_type": "code",
      "metadata": {
        "id": "9N-6i3PXUvWU",
        "colab": {
          "base_uri": "https://localhost:8080/",
          "height": 204
        },
        "outputId": "b4b16ae0-108a-4a8e-80ea-9d61e303fbf8"
      },
      "source": [
        "# getting the real stock of 2017 i.e., importing the test dataset\n",
        "\n",
        "test_data = pd.read_csv('Google_Stock_Price_Test.csv')\n",
        "real_stock_price = test_data.iloc[:,1:2]\n",
        "real_stock_price.head()\n"
      ],
      "execution_count": 11,
      "outputs": [
        {
          "output_type": "execute_result",
          "data": {
            "text/html": [
              "<div>\n",
              "<style scoped>\n",
              "    .dataframe tbody tr th:only-of-type {\n",
              "        vertical-align: middle;\n",
              "    }\n",
              "\n",
              "    .dataframe tbody tr th {\n",
              "        vertical-align: top;\n",
              "    }\n",
              "\n",
              "    .dataframe thead th {\n",
              "        text-align: right;\n",
              "    }\n",
              "</style>\n",
              "<table border=\"1\" class=\"dataframe\">\n",
              "  <thead>\n",
              "    <tr style=\"text-align: right;\">\n",
              "      <th></th>\n",
              "      <th>Open</th>\n",
              "    </tr>\n",
              "  </thead>\n",
              "  <tbody>\n",
              "    <tr>\n",
              "      <th>0</th>\n",
              "      <td>778.81</td>\n",
              "    </tr>\n",
              "    <tr>\n",
              "      <th>1</th>\n",
              "      <td>788.36</td>\n",
              "    </tr>\n",
              "    <tr>\n",
              "      <th>2</th>\n",
              "      <td>786.08</td>\n",
              "    </tr>\n",
              "    <tr>\n",
              "      <th>3</th>\n",
              "      <td>795.26</td>\n",
              "    </tr>\n",
              "    <tr>\n",
              "      <th>4</th>\n",
              "      <td>806.40</td>\n",
              "    </tr>\n",
              "  </tbody>\n",
              "</table>\n",
              "</div>"
            ],
            "text/plain": [
              "     Open\n",
              "0  778.81\n",
              "1  788.36\n",
              "2  786.08\n",
              "3  795.26\n",
              "4  806.40"
            ]
          },
          "metadata": {
            "tags": []
          },
          "execution_count": 11
        }
      ]
    },
    {
      "cell_type": "code",
      "metadata": {
        "id": "sYfYkJi4WBG2"
      },
      "source": [
        "# getting the predicted stock price of 2017\n",
        "\n",
        "inputs = real_stock_price\n",
        "inputs = mm.transform(inputs)\n",
        "inputs = np.reshape(inputs, (20, 1, 1))\n",
        "\n",
        "\n",
        "predicted_stock_price = model.predict(inputs)\n",
        "predicted_stock_price = mm.inverse_transform(predicted_stock_price)\n"
      ],
      "execution_count": 12,
      "outputs": []
    },
    {
      "cell_type": "code",
      "metadata": {
        "colab": {
          "base_uri": "https://localhost:8080/"
        },
        "id": "3tvcHwk8W2no",
        "outputId": "12122dab-131a-4765-b39d-6661aa01ab13"
      },
      "source": [
        "predicted_stock_price"
      ],
      "execution_count": 13,
      "outputs": [
        {
          "output_type": "execute_result",
          "data": {
            "text/plain": [
              "array([[774.4365 ],\n",
              "       [782.8615 ],\n",
              "       [780.85803],\n",
              "       [788.89374],\n",
              "       [798.5336 ],\n",
              "       [799.7878 ],\n",
              "       [797.3289 ],\n",
              "       [799.1696 ],\n",
              "       [799.4616 ],\n",
              "       [799.11804],\n",
              "       [798.0261 ],\n",
              "       [797.43225],\n",
              "       [798.972  ],\n",
              "       [799.264  ],\n",
              "       [812.07623],\n",
              "       [818.2241 ],\n",
              "       [825.03656],\n",
              "       [822.4662 ],\n",
              "       [805.601  ],\n",
              "       [790.2858 ]], dtype=float32)"
            ]
          },
          "metadata": {
            "tags": []
          },
          "execution_count": 13
        }
      ]
    },
    {
      "cell_type": "code",
      "metadata": {
        "colab": {
          "base_uri": "https://localhost:8080/",
          "height": 295
        },
        "id": "pkA9SvUqXF4M",
        "outputId": "b2867c13-17af-4634-95b3-583674d1d535"
      },
      "source": [
        "# visualizing the results\n",
        "\n",
        "plt.plot(real_stock_price, color = 'red', label = 'Real Google Stock Price')\n",
        "plt.plot(predicted_stock_price, color = 'blue', label = 'Predicted Google Stock Price')\n",
        "plt.title('Stock Prediction')\n",
        "plt.xlabel('Time')\n",
        "plt.ylabel('Google Stock Price')\n",
        "plt.legend()\n",
        "plt.show()"
      ],
      "execution_count": 14,
      "outputs": [
        {
          "output_type": "display_data",
          "data": {
            "image/png": "[encoded data removed]",
            "text/plain": [
              "<Figure size 432x288 with 1 Axes>"
            ]
          },
          "metadata": {
            "tags": [],
            "needs_background": "light"
          }
        }
      ]
    },
    {
      "cell_type": "code",
      "metadata": {
        "colab": {
          "base_uri": "https://localhost:8080/",
          "height": 204
        },
        "id": "a_5uKG6UYpxB",
        "outputId": "f4a50e6d-0755-44d9-a4f1-73b13161772b"
      },
      "source": [
        "# getting the real stock price of 2012 - 2016\n",
        "\n",
        "training_data = pd.read_csv('Google_Stock_Price_Train.csv')\n",
        "\n",
        "training_data.shape\n",
        "training_data.head()"
      ],
      "execution_count": 15,
      "outputs": [
        {
          "output_type": "execute_result",
          "data": {
            "text/html": [
              "<div>\n",
              "<style scoped>\n",
              "    .dataframe tbody tr th:only-of-type {\n",
              "        vertical-align: middle;\n",
              "    }\n",
              "\n",
              "    .dataframe tbody tr th {\n",
              "        vertical-align: top;\n",
              "    }\n",
              "\n",
              "    .dataframe thead th {\n",
              "        text-align: right;\n",
              "    }\n",
              "</style>\n",
              "<table border=\"1\" class=\"dataframe\">\n",
              "  <thead>\n",
              "    <tr style=\"text-align: right;\">\n",
              "      <th></th>\n",
              "      <th>Date</th>\n",
              "      <th>Open</th>\n",
              "      <th>High</th>\n",
              "      <th>Low</th>\n",
              "      <th>Close</th>\n",
              "      <th>Volume</th>\n",
              "    </tr>\n",
              "  </thead>\n",
              "  <tbody>\n",
              "    <tr>\n",
              "      <th>0</th>\n",
              "      <td>1/3/2012</td>\n",
              "      <td>325.25</td>\n",
              "      <td>332.83</td>\n",
              "      <td>324.97</td>\n",
              "      <td>663.59</td>\n",
              "      <td>7,380,500</td>\n",
              "    </tr>\n",
              "    <tr>\n",
              "      <th>1</th>\n",
              "      <td>1/4/2012</td>\n",
              "      <td>331.27</td>\n",
              "      <td>333.87</td>\n",
              "      <td>329.08</td>\n",
              "      <td>666.45</td>\n",
              "      <td>5,749,400</td>\n",
              "    </tr>\n",
              "    <tr>\n",
              "      <th>2</th>\n",
              "      <td>1/5/2012</td>\n",
              "      <td>329.83</td>\n",
              "      <td>330.75</td>\n",
              "      <td>326.89</td>\n",
              "      <td>657.21</td>\n",
              "      <td>6,590,300</td>\n",
              "    </tr>\n",
              "    <tr>\n",
              "      <th>3</th>\n",
              "      <td>1/6/2012</td>\n",
              "      <td>328.34</td>\n",
              "      <td>328.77</td>\n",
              "      <td>323.68</td>\n",
              "      <td>648.24</td>\n",
              "      <td>5,405,900</td>\n",
              "    </tr>\n",
              "    <tr>\n",
              "      <th>4</th>\n",
              "      <td>1/9/2012</td>\n",
              "      <td>322.04</td>\n",
              "      <td>322.29</td>\n",
              "      <td>309.46</td>\n",
              "      <td>620.76</td>\n",
              "      <td>11,688,800</td>\n",
              "    </tr>\n",
              "  </tbody>\n",
              "</table>\n",
              "</div>"
            ],
            "text/plain": [
              "       Date    Open    High     Low   Close      Volume\n",
              "0  1/3/2012  325.25  332.83  324.97  663.59   7,380,500\n",
              "1  1/4/2012  331.27  333.87  329.08  666.45   5,749,400\n",
              "2  1/5/2012  329.83  330.75  326.89  657.21   6,590,300\n",
              "3  1/6/2012  328.34  328.77  323.68  648.24   5,405,900\n",
              "4  1/9/2012  322.04  322.29  309.46  620.76  11,688,800"
            ]
          },
          "metadata": {
            "tags": []
          },
          "execution_count": 15
        }
      ]
    },
    {
      "cell_type": "code",
      "metadata": {
        "colab": {
          "base_uri": "https://localhost:8080/",
          "height": 204
        },
        "id": "E7nPSVrHbQxM",
        "outputId": "4fad304f-d416-4c14-c6bd-136357ed08a4"
      },
      "source": [
        "training_data = training_data.iloc[:, 1:2]\n",
        "\n",
        "training_data.shape\n",
        "training_data.head()"
      ],
      "execution_count": 16,
      "outputs": [
        {
          "output_type": "execute_result",
          "data": {
            "text/html": [
              "<div>\n",
              "<style scoped>\n",
              "    .dataframe tbody tr th:only-of-type {\n",
              "        vertical-align: middle;\n",
              "    }\n",
              "\n",
              "    .dataframe tbody tr th {\n",
              "        vertical-align: top;\n",
              "    }\n",
              "\n",
              "    .dataframe thead th {\n",
              "        text-align: right;\n",
              "    }\n",
              "</style>\n",
              "<table border=\"1\" class=\"dataframe\">\n",
              "  <thead>\n",
              "    <tr style=\"text-align: right;\">\n",
              "      <th></th>\n",
              "      <th>Open</th>\n",
              "    </tr>\n",
              "  </thead>\n",
              "  <tbody>\n",
              "    <tr>\n",
              "      <th>0</th>\n",
              "      <td>325.25</td>\n",
              "    </tr>\n",
              "    <tr>\n",
              "      <th>1</th>\n",
              "      <td>331.27</td>\n",
              "    </tr>\n",
              "    <tr>\n",
              "      <th>2</th>\n",
              "      <td>329.83</td>\n",
              "    </tr>\n",
              "    <tr>\n",
              "      <th>3</th>\n",
              "      <td>328.34</td>\n",
              "    </tr>\n",
              "    <tr>\n",
              "      <th>4</th>\n",
              "      <td>322.04</td>\n",
              "    </tr>\n",
              "  </tbody>\n",
              "</table>\n",
              "</div>"
            ],
            "text/plain": [
              "     Open\n",
              "0  325.25\n",
              "1  331.27\n",
              "2  329.83\n",
              "3  328.34\n",
              "4  322.04"
            ]
          },
          "metadata": {
            "tags": []
          },
          "execution_count": 16
        }
      ]
    },
    {
      "cell_type": "code",
      "metadata": {
        "id": "6uXzm4mBaIHq"
      },
      "source": [
        "# getting the predicted stock price of 2012-2016\n",
        "\n",
        "predicted_stock_price = model.predict(x_train)\n",
        "predicted_stock_price = mm.inverse_transform(predicted_stock_price)"
      ],
      "execution_count": 17,
      "outputs": []
    },
    {
      "cell_type": "code",
      "metadata": {
        "colab": {
          "base_uri": "https://localhost:8080/",
          "height": 295
        },
        "id": "i76zfhK4arX9",
        "outputId": "af20a198-d792-4239-93e9-5e11c2fae478"
      },
      "source": [
        "# visualizing the whole training data results\n",
        "\n",
        "plt.plot(training_data, color = 'red', label = 'Real Google Stock Price')\n",
        "plt.plot(predicted_stock_price, color = 'blue', label = 'Predicted Google Stock Price')\n",
        "plt.title('Stock Prediction')\n",
        "plt.xlabel('Time')\n",
        "plt.ylabel('Google Stock Price')\n",
        "plt.legend()\n",
        "plt.show()"
      ],
      "execution_count": 18,
      "outputs": [
        {
          "output_type": "display_data",
          "data": {
            "image/png": "[encoded data removed]",
            "text/plain": [
              "<Figure size 432x288 with 1 Axes>"
            ]
          },
          "metadata": {
            "tags": [],
            "needs_background": "light"
          }
        }
      ]
    }
  ]
}